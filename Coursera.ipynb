{
 "cells": [
  {
   "cell_type": "markdown",
   "metadata": {},
   "source": [
    "# My Jupyter Notebook on IBM Watson Studio"
   ]
  },
  {
   "cell_type": "markdown",
   "metadata": {},
   "source": [
    "**Ravi Punar**<br>\n",
    "Data Scientist"
   ]
  },
  {
   "cell_type": "markdown",
   "metadata": {},
   "source": [
    "*I am interested in data science because i would love to be a great AI Reasearcher and solve every real world problem in the world and help humanity in a better way.*"
   ]
  },
  {
   "cell_type": "markdown",
   "metadata": {},
   "source": [
    "### The code in the below should create a numpy array with 20 Zeros and print it."
   ]
  },
  {
   "cell_type": "code",
   "execution_count": 6,
   "metadata": {},
   "outputs": [
    {
     "name": "stdout",
     "output_type": "stream",
     "text": [
      "[0. 0. 0. 0. 0. 0. 0. 0. 0. 0. 0. 0. 0. 0. 0. 0. 0. 0. 0. 0.]\n"
     ]
    }
   ],
   "source": [
    "import numpy as np\n",
    "a = np.zeros(20)\n",
    "print(a)"
   ]
  },
  {
   "cell_type": "markdown",
   "metadata": {},
   "source": [
    "<hr>\n",
    "Cell : 6\n",
    "<hr>\n",
    "<a href=\"https://www.google.com/search?q=fruits+images&rlz=1C1ONGR_enIN1024IN1024&sxsrf=ALiCzsbzjgB_vchTncFcvxTS9qaSxaTdkQ:1669294835941&source=lnms&tbm=isch&sa=X&ved=2ahUKEwjcrOLt78b7AhWX-jgGHc71Ck8Q_AUoAXoECAEQAw&biw=1536&bih=746&dpr=1.25#imgrc=HU9XiDnhAppwvM\"/>\n",
    "<ol type=1>\n",
    "    <li>Fruits Here:</li></a>\n",
    "    <ul type=dot>\n",
    "    <li>Apple</li>\n",
    "    <li>Mango</li>\n",
    "    <li>Banana</li>\n",
    "    <li>Payaya</li>\n",
    "    <li><strike>LadyFingure</strike></li>\n",
    "    </ul>\n",
    "</ol>\n"
   ]
  },
  {
   "cell_type": "code",
   "execution_count": null,
   "metadata": {},
   "outputs": [],
   "source": []
  }
 ],
 "metadata": {
  "kernelspec": {
   "display_name": "Python 3.9",
   "language": "python",
   "name": "python3"
  },
  "language_info": {
   "codemirror_mode": {
    "name": "ipython",
    "version": 3
   },
   "file_extension": ".py",
   "mimetype": "text/x-python",
   "name": "python",
   "nbconvert_exporter": "python",
   "pygments_lexer": "ipython3",
   "version": "3.9.13"
  }
 },
 "nbformat": 4,
 "nbformat_minor": 1
}
